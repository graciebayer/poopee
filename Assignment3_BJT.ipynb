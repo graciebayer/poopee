{
  "cells": [
    {
      "cell_type": "markdown",
      "source": [
        "# Brett Tully \n",
        "## Assignment 3"
      ],
      "metadata": {
        "id": "1PZgCP7tOVHE"
      }
    },
    {
      "cell_type": "code",
      "execution_count": 81,
      "metadata": {
        "id": "PrmgRsWDmd4a"
      },
      "outputs": [],
      "source": [
        "import numpy as np \n",
        "import pandas as pd \n",
        "import seaborn as sns\n",
        "import matplotlib.pyplot as plt \n",
        "from sklearn.model_selection import GridSearchCV\n",
        "from sklearn.model_selection import RandomizedSearchCV\n",
        "from sklearn.preprocessing import StandardScaler\n",
        "from sklearn.model_selection import train_test_split \n",
        "from sklearn.model_selection import KFold, cross_val_score\n",
        "from sklearn.linear_model import LogisticRegression\n",
        "from sklearn.model_selection import StratifiedKFold\n",
        "from sklearn import svm\n",
        "\n",
        "from sklearn.svm import SVC\n",
        "from sklearn.linear_model import SGDRegressor, Lasso, LinearRegression\n",
        "from sklearn.svm import SVR \n"
      ]
    },
    {
      "cell_type": "code",
      "execution_count": 82,
      "metadata": {
        "id": "mb-v2gNym5Cj"
      },
      "outputs": [],
      "source": [
        "df = pd.read_csv(\"/content/drive/MyDrive/Colab Notebooks/Assignment3_BJT/customer_data.csv\")"
      ]
    },
    {
      "cell_type": "code",
      "execution_count": 83,
      "metadata": {
        "id": "lZtyvwwym5Fu",
        "colab": {
          "base_uri": "https://localhost:8080/"
        },
        "outputId": "32e5a4ae-3bab-4498-8a2a-8d0438187862"
      },
      "outputs": [
        {
          "output_type": "execute_result",
          "data": {
            "text/plain": [
              "label       0\n",
              "id          0\n",
              "fea_1       0\n",
              "fea_2     149\n",
              "fea_3       0\n",
              "fea_4       0\n",
              "fea_5       0\n",
              "fea_6       0\n",
              "fea_7       0\n",
              "fea_8       0\n",
              "fea_9       0\n",
              "fea_10      0\n",
              "fea_11      0\n",
              "dtype: int64"
            ]
          },
          "metadata": {},
          "execution_count": 83
        }
      ],
      "source": [
        "df.isnull().sum()"
      ]
    },
    {
      "cell_type": "markdown",
      "source": [
        "# Filling Null Values"
      ],
      "metadata": {
        "id": "ynkyvJhuOi3k"
      }
    },
    {
      "cell_type": "code",
      "execution_count": 84,
      "metadata": {
        "id": "G2RYBYnfm5IV"
      },
      "outputs": [],
      "source": [
        "mean_value=df['fea_2'].mean()\n",
        "  \n",
        "\n",
        "df['fea_2'].fillna(value=mean_value, inplace=True)"
      ]
    },
    {
      "cell_type": "code",
      "execution_count": 85,
      "metadata": {
        "id": "k7tuBEK0m5K8",
        "colab": {
          "base_uri": "https://localhost:8080/"
        },
        "outputId": "00d2df21-4522-4e32-a71e-38ed8c700c60"
      },
      "outputs": [
        {
          "output_type": "execute_result",
          "data": {
            "text/plain": [
              "label     0\n",
              "id        0\n",
              "fea_1     0\n",
              "fea_2     0\n",
              "fea_3     0\n",
              "fea_4     0\n",
              "fea_5     0\n",
              "fea_6     0\n",
              "fea_7     0\n",
              "fea_8     0\n",
              "fea_9     0\n",
              "fea_10    0\n",
              "fea_11    0\n",
              "dtype: int64"
            ]
          },
          "metadata": {},
          "execution_count": 85
        }
      ],
      "source": [
        "df.isna().sum()"
      ]
    },
    {
      "cell_type": "code",
      "execution_count": 86,
      "metadata": {
        "id": "yczzKfZCm5NV"
      },
      "outputs": [],
      "source": [
        "df=df.drop(df[['id']],axis=1)"
      ]
    },
    {
      "cell_type": "markdown",
      "source": [
        "# Assignment Variables"
      ],
      "metadata": {
        "id": "11wApnrgOn1n"
      }
    },
    {
      "cell_type": "code",
      "execution_count": 87,
      "metadata": {
        "id": "C1R8gqZTm5P-"
      },
      "outputs": [],
      "source": [
        "X = df.drop(df[['label']],axis=1)"
      ]
    },
    {
      "cell_type": "code",
      "execution_count": 88,
      "metadata": {
        "id": "0UsjWZH0oXG6"
      },
      "outputs": [],
      "source": [
        "y = df['label']"
      ]
    },
    {
      "cell_type": "markdown",
      "source": [
        "# Scaling X values"
      ],
      "metadata": {
        "id": "jHTua6KlOs98"
      }
    },
    {
      "cell_type": "code",
      "source": [
        "\n",
        "scaler = StandardScaler()\n",
        "scaler.fit(X)\n",
        "X = scaler.transform(X)"
      ],
      "metadata": {
        "id": "VPwDn9CKBBy3"
      },
      "execution_count": 89,
      "outputs": []
    },
    {
      "cell_type": "markdown",
      "source": [
        "# Train Test Split"
      ],
      "metadata": {
        "id": "_-P5XEpyOv8W"
      }
    },
    {
      "cell_type": "code",
      "execution_count": 90,
      "metadata": {
        "id": "Aq7v4-73m5Sg"
      },
      "outputs": [],
      "source": [
        "\n",
        "X_train,X_test,y_train,y_test = train_test_split(X,y,test_size=.15,random_state=42)"
      ]
    },
    {
      "cell_type": "markdown",
      "source": [
        "# Strat K-Fold with SVC"
      ],
      "metadata": {
        "id": "I3A5brlYOyKG"
      }
    },
    {
      "cell_type": "code",
      "execution_count": 91,
      "metadata": {
        "id": "UxlzTSNpt9Cq"
      },
      "outputs": [],
      "source": [
        "SKFold=StratifiedKFold(n_splits=13)\n",
        "logistic_regressor=LogisticRegression()\n",
        "svc = svm.SVC()"
      ]
    },
    {
      "cell_type": "code",
      "source": [
        "\n",
        "svc=SVC(kernel='linear')\n",
        "scores = cross_val_score(svc, X, y, cv=SKFold, scoring='accuracy') \n",
        "print(scores)#"
      ],
      "metadata": {
        "colab": {
          "base_uri": "https://localhost:8080/"
        },
        "id": "VJIKHBAJl1ph",
        "outputId": "072e10ce-c975-418d-a456-68df0f5dde70"
      },
      "execution_count": 92,
      "outputs": [
        {
          "output_type": "stream",
          "name": "stdout",
          "text": [
            "[0.79310345 0.79310345 0.79310345 0.79310345 0.8045977  0.8045977\n",
            " 0.8045977  0.80232558 0.80232558 0.80232558 0.80232558 0.80232558\n",
            " 0.80232558]\n"
          ]
        }
      ]
    },
    {
      "cell_type": "code",
      "source": [
        "scores_mean = np.mean(scores)\n",
        "scores_mean"
      ],
      "metadata": {
        "colab": {
          "base_uri": "https://localhost:8080/"
        },
        "id": "Bx5mIW6aEn76",
        "outputId": "60b8dfad-e23b-492d-be8a-092236ba46ed"
      },
      "execution_count": 93,
      "outputs": [
        {
          "output_type": "execute_result",
          "data": {
            "text/plain": [
              "0.8000123373018322"
            ]
          },
          "metadata": {},
          "execution_count": 93
        }
      ]
    },
    {
      "cell_type": "markdown",
      "source": [
        "#Repeated Random Sub-Sampling with SVC Classifier"
      ],
      "metadata": {
        "id": "pjJAXYZHO4ZG"
      }
    },
    {
      "cell_type": "code",
      "execution_count": 94,
      "metadata": {
        "id": "gnT104nlnsnc",
        "colab": {
          "base_uri": "https://localhost:8080/"
        },
        "outputId": "ef4b8ea6-0af1-48f0-857f-32c387f9659e"
      },
      "outputs": [
        {
          "output_type": "stream",
          "name": "stdout",
          "text": [
            "0.7995959595959596\n"
          ]
        }
      ],
      "source": [
        "from sklearn.model_selection import ShuffleSplit, cross_val_score\n",
        "\n",
        "rrandom = ShuffleSplit(n_splits=11,test_size=.20)\n",
        "\n",
        "result_rrandom=cross_val_score(svc,X,y,cv=rrandom)\n",
        "\n",
        "result_rrandom\n",
        "\n",
        "rrandom_score = np.mean(result_rrandom)\n",
        "\n",
        "print(rrandom_score)\n"
      ]
    },
    {
      "cell_type": "markdown",
      "source": [
        "# Random Search with Logistic Regressor"
      ],
      "metadata": {
        "id": "pTjE_9bVM3aC"
      }
    },
    {
      "cell_type": "code",
      "source": [
        "params = {'solver' :['lbfgs', 'liblinear'],\n",
        "          'multi_class' :['auto', 'ovr', 'multinomial'],\n",
        "          'C': [0.001, 0.01, 0.1, 1, 10, 100, 1000]}\n",
        "\n",
        "\n",
        "clf=RandomizedSearchCV(logistic_regressor,\n",
        "                       params,\n",
        "                       cv=8, \n",
        "                       return_train_score=True, \n",
        "                       n_iter=7,random_state=42) \n",
        "clf.fit(X,y)\n",
        "allscores_random=clf.cv_results_['mean_test_score']\n",
        "allscores_random = np.mean(allscores_random)"
      ],
      "metadata": {
        "id": "VXHEVTCjLxBi"
      },
      "execution_count": 95,
      "outputs": []
    },
    {
      "cell_type": "markdown",
      "source": [
        "# Grid Search Parameters"
      ],
      "metadata": {
        "id": "TWcOxnPYGZSO"
      }
    },
    {
      "cell_type": "code",
      "source": [
        "from sklearn.linear_model import LinearRegression\n",
        "\n",
        "\n",
        "param= { 'C':[0.1,1,10,100],\n",
        "        'kernel':['rbf','linear','poly'], \n",
        "      }\n"
      ],
      "metadata": {
        "id": "cr1ob11jS8UK"
      },
      "execution_count": 96,
      "outputs": []
    },
    {
      "cell_type": "markdown",
      "source": [
        " # Grid Search CV with SVC Classifier "
      ],
      "metadata": {
        "id": "RTaONawS_YqQ"
      }
    },
    {
      "cell_type": "code",
      "source": [
        "\n",
        "\n",
        "search = GridSearchCV(estimator=svc,\n",
        "                      param_grid=param,verbose=3,cv=5)\n",
        "\n",
        "search.fit(X, y)\n",
        "\n",
        "search.cv_results_\n",
        "allscores=search.cv_results_['mean_test_score']\n",
        "print(allscores)\n",
        "allscores = np.mean(allscores)"
      ],
      "metadata": {
        "colab": {
          "base_uri": "https://localhost:8080/"
        },
        "id": "VO8wLSqZ4p11",
        "outputId": "674b4aa9-29e4-43a5-81e5-ecd5eba2e126"
      },
      "execution_count": 97,
      "outputs": [
        {
          "output_type": "stream",
          "name": "stdout",
          "text": [
            "Fitting 5 folds for each of 12 candidates, totalling 60 fits\n",
            "[CV 1/5] END .................C=0.1, kernel=rbf;, score=0.800 total time=   0.1s\n",
            "[CV 2/5] END .................C=0.1, kernel=rbf;, score=0.800 total time=   0.0s\n",
            "[CV 3/5] END .................C=0.1, kernel=rbf;, score=0.800 total time=   0.0s\n",
            "[CV 4/5] END .................C=0.1, kernel=rbf;, score=0.800 total time=   0.0s\n",
            "[CV 5/5] END .................C=0.1, kernel=rbf;, score=0.800 total time=   0.0s\n",
            "[CV 1/5] END ..............C=0.1, kernel=linear;, score=0.800 total time=   0.0s\n",
            "[CV 2/5] END ..............C=0.1, kernel=linear;, score=0.800 total time=   0.0s\n",
            "[CV 3/5] END ..............C=0.1, kernel=linear;, score=0.800 total time=   0.0s\n",
            "[CV 4/5] END ..............C=0.1, kernel=linear;, score=0.800 total time=   0.0s\n",
            "[CV 5/5] END ..............C=0.1, kernel=linear;, score=0.800 total time=   0.0s\n",
            "[CV 1/5] END ................C=0.1, kernel=poly;, score=0.800 total time=   0.0s\n",
            "[CV 2/5] END ................C=0.1, kernel=poly;, score=0.800 total time=   0.0s\n",
            "[CV 3/5] END ................C=0.1, kernel=poly;, score=0.800 total time=   0.0s\n",
            "[CV 4/5] END ................C=0.1, kernel=poly;, score=0.800 total time=   0.0s\n",
            "[CV 5/5] END ................C=0.1, kernel=poly;, score=0.796 total time=   0.0s\n",
            "[CV 1/5] END ...................C=1, kernel=rbf;, score=0.800 total time=   0.0s\n",
            "[CV 2/5] END ...................C=1, kernel=rbf;, score=0.800 total time=   0.0s\n",
            "[CV 3/5] END ...................C=1, kernel=rbf;, score=0.800 total time=   0.0s\n",
            "[CV 4/5] END ...................C=1, kernel=rbf;, score=0.800 total time=   0.0s\n",
            "[CV 5/5] END ...................C=1, kernel=rbf;, score=0.800 total time=   0.0s\n",
            "[CV 1/5] END ................C=1, kernel=linear;, score=0.800 total time=   0.0s\n",
            "[CV 2/5] END ................C=1, kernel=linear;, score=0.800 total time=   0.0s\n",
            "[CV 3/5] END ................C=1, kernel=linear;, score=0.800 total time=   0.0s\n",
            "[CV 4/5] END ................C=1, kernel=linear;, score=0.800 total time=   0.0s\n",
            "[CV 5/5] END ................C=1, kernel=linear;, score=0.800 total time=   0.0s\n",
            "[CV 1/5] END ..................C=1, kernel=poly;, score=0.791 total time=   0.0s\n",
            "[CV 2/5] END ..................C=1, kernel=poly;, score=0.796 total time=   0.0s\n",
            "[CV 3/5] END ..................C=1, kernel=poly;, score=0.800 total time=   0.0s\n",
            "[CV 4/5] END ..................C=1, kernel=poly;, score=0.773 total time=   0.0s\n",
            "[CV 5/5] END ..................C=1, kernel=poly;, score=0.791 total time=   0.0s\n",
            "[CV 1/5] END ..................C=10, kernel=rbf;, score=0.778 total time=   0.0s\n",
            "[CV 2/5] END ..................C=10, kernel=rbf;, score=0.787 total time=   0.0s\n",
            "[CV 3/5] END ..................C=10, kernel=rbf;, score=0.773 total time=   0.0s\n",
            "[CV 4/5] END ..................C=10, kernel=rbf;, score=0.751 total time=   0.0s\n",
            "[CV 5/5] END ..................C=10, kernel=rbf;, score=0.751 total time=   0.0s\n",
            "[CV 1/5] END ...............C=10, kernel=linear;, score=0.800 total time=   0.0s\n",
            "[CV 2/5] END ...............C=10, kernel=linear;, score=0.800 total time=   0.0s\n",
            "[CV 3/5] END ...............C=10, kernel=linear;, score=0.800 total time=   0.0s\n",
            "[CV 4/5] END ...............C=10, kernel=linear;, score=0.800 total time=   0.0s\n",
            "[CV 5/5] END ...............C=10, kernel=linear;, score=0.800 total time=   0.0s\n",
            "[CV 1/5] END .................C=10, kernel=poly;, score=0.747 total time=   0.0s\n",
            "[CV 2/5] END .................C=10, kernel=poly;, score=0.778 total time=   0.0s\n",
            "[CV 3/5] END .................C=10, kernel=poly;, score=0.773 total time=   0.1s\n",
            "[CV 4/5] END .................C=10, kernel=poly;, score=0.733 total time=   0.0s\n",
            "[CV 5/5] END .................C=10, kernel=poly;, score=0.760 total time=   0.0s\n",
            "[CV 1/5] END .................C=100, kernel=rbf;, score=0.742 total time=   0.1s\n",
            "[CV 2/5] END .................C=100, kernel=rbf;, score=0.716 total time=   0.1s\n",
            "[CV 3/5] END .................C=100, kernel=rbf;, score=0.676 total time=   0.1s\n",
            "[CV 4/5] END .................C=100, kernel=rbf;, score=0.689 total time=   0.1s\n",
            "[CV 5/5] END .................C=100, kernel=rbf;, score=0.716 total time=   0.1s\n",
            "[CV 1/5] END ..............C=100, kernel=linear;, score=0.800 total time=   1.4s\n",
            "[CV 2/5] END ..............C=100, kernel=linear;, score=0.800 total time=   7.9s\n",
            "[CV 3/5] END ..............C=100, kernel=linear;, score=0.800 total time=   3.7s\n",
            "[CV 4/5] END ..............C=100, kernel=linear;, score=0.800 total time=   4.7s\n",
            "[CV 5/5] END ..............C=100, kernel=linear;, score=0.800 total time=   4.7s\n",
            "[CV 1/5] END ................C=100, kernel=poly;, score=0.733 total time=   0.3s\n",
            "[CV 2/5] END ................C=100, kernel=poly;, score=0.720 total time=   0.2s\n",
            "[CV 3/5] END ................C=100, kernel=poly;, score=0.760 total time=   0.3s\n",
            "[CV 4/5] END ................C=100, kernel=poly;, score=0.684 total time=   0.2s\n",
            "[CV 5/5] END ................C=100, kernel=poly;, score=0.729 total time=   0.2s\n",
            "[0.8        0.8        0.79911111 0.8        0.8        0.79022222\n",
            " 0.768      0.8        0.75822222 0.70755556 0.8        0.72533333]\n"
          ]
        }
      ]
    },
    {
      "cell_type": "markdown",
      "source": [
        "# Pretty Table with scores "
      ],
      "metadata": {
        "id": "AGWK4OKBMj_m"
      }
    },
    {
      "cell_type": "code",
      "source": [
        "from prettytable import PrettyTable"
      ],
      "metadata": {
        "id": "hEAtoGBHXHc9"
      },
      "execution_count": 98,
      "outputs": []
    },
    {
      "cell_type": "code",
      "source": [
        "myTable = PrettyTable(['Cross Validation Techniques','Classifier','Score'])\n",
        "\n",
        "\n",
        "\n",
        "myTable.add_row(['Stratified K Fold','SVC', scores_mean])\n",
        "myTable.add_row(['Repeated Random Subsampling','SVC', rrandom_score])\n",
        "myTable.add_row(['Randomized search', 'Logistic Regressor',allscores_random])\n",
        "myTable.add_row(['Grid Search','SVC',allscores])\n",
        "print(myTable)"
      ],
      "metadata": {
        "id": "ferf6vx2XHi2",
        "colab": {
          "base_uri": "https://localhost:8080/"
        },
        "outputId": "bd6f6cda-8441-4cdf-91cc-882ec50ec61a"
      },
      "execution_count": 99,
      "outputs": [
        {
          "output_type": "stream",
          "name": "stdout",
          "text": [
            "+-----------------------------+--------------------+--------------------+\n",
            "| Cross Validation Techniques |     Classifier     |       Score        |\n",
            "+-----------------------------+--------------------+--------------------+\n",
            "|      Stratified K Fold      |        SVC         | 0.8000123373018322 |\n",
            "| Repeated Random Subsampling |        SVC         | 0.7995959595959596 |\n",
            "|      Randomized search      | Logistic Regressor | 0.7999999999999999 |\n",
            "|         Grid Search         |        SVC         | 0.7790370370370371 |\n",
            "+-----------------------------+--------------------+--------------------+\n"
          ]
        }
      ]
    }
  ],
  "metadata": {
    "colab": {
      "collapsed_sections": [],
      "provenance": []
    },
    "kernelspec": {
      "display_name": "Python 3",
      "name": "python3"
    },
    "language_info": {
      "name": "python"
    },
    "accelerator": "GPU"
  },
  "nbformat": 4,
  "nbformat_minor": 0
}